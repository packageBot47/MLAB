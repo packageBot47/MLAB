{
  "nbformat": 4,
  "nbformat_minor": 0,
  "metadata": {
    "colab": {
      "provenance": [],
      "authorship_tag": "ABX9TyNBb6whiOLf1dL7yWWw9Gkp",
      "include_colab_link": true
    },
    "kernelspec": {
      "name": "python3",
      "display_name": "Python 3"
    },
    "language_info": {
      "name": "python"
    }
  },
  "cells": [
    {
      "cell_type": "markdown",
      "metadata": {
        "id": "view-in-github",
        "colab_type": "text"
      },
      "source": [
        "<a href=\"https://colab.research.google.com/github/DeependraParmar/ML-Labs/blob/master/Perceptron_Model_AND_Gate.ipynb\" target=\"_parent\"><img src=\"https://colab.research.google.com/assets/colab-badge.svg\" alt=\"Open In Colab\"/></a>"
      ]
    },
    {
      "cell_type": "code",
      "source": [
        "import numpy as np"
      ],
      "metadata": {
        "id": "4jGFlP4O0rjA"
      },
      "execution_count": 2,
      "outputs": []
    },
    {
      "cell_type": "code",
      "execution_count": 3,
      "metadata": {
        "id": "fEatCVnLyu1n"
      },
      "outputs": [],
      "source": [
        "# Training data for AND gate\n",
        "\n",
        "training_inputs = np.array([[0, 0], [0, 1], [1, 0], [1, 1]])\n",
        "labels = np.array([0, 0, 0, 1])"
      ]
    },
    {
      "cell_type": "code",
      "source": [
        "class Perceptron:\n",
        "\n",
        "  def __init__(self, input_size, learning_rate=0.01, epochs=100):\n",
        "\n",
        "    self.weights = np.zeros(input_size + 1)\n",
        "    self.learning_rate = learning_rate\n",
        "    self.epochs = epochs\n",
        "\n",
        "  def activation_function(self, x):\n",
        "    return 1 if x >= 0 else 0\n",
        "\n",
        "  def predict(self, inputs):\n",
        "\n",
        "    summation = np.dot(inputs, self.weights[1:]) +  self.weights[0]\n",
        "    return self.activation_function(summation)\n",
        "\n",
        "  def train(self, training_inputs, labels):\n",
        "    for _ in range(self.epochs):\n",
        "      for inputs, label in zip(training_inputs, labels):\n",
        "        prediction = self.predict(inputs)\n",
        "        self.weights[1:] += self.learning_rate * (label - prediction) * inputs\n",
        "        self.weights[0] += self.learning_rate * (label - prediction)"
      ],
      "metadata": {
        "id": "KdtNzWaX0mrl"
      },
      "execution_count": 9,
      "outputs": []
    },
    {
      "cell_type": "code",
      "source": [
        "if __name__ == '__main__':\n",
        "  perceptron = Perceptron(input_size=2)\n",
        "  perceptron.train(training_inputs, labels)\n",
        "\n",
        "  print(\"Testing AND gate Perceptron:\")\n",
        "  print(\"0 AND 0 = \", perceptron.predict(np.array([0, 0])))\n",
        "  print(\"0 AND 1 = \", perceptron.predict(np.array([0, 1])))\n",
        "  print(\"1 AND 0 = \", perceptron.predict(np.array([1, 0])))\n",
        "  print(\"1 AND 1 = \", perceptron.predict(np.array([1, 1])))"
      ],
      "metadata": {
        "colab": {
          "base_uri": "https://localhost:8080/"
        },
        "id": "0KElKw7Q1n-u",
        "outputId": "56230e6a-503e-44b7-b29a-f8e0f1ad53b7"
      },
      "execution_count": 21,
      "outputs": [
        {
          "output_type": "stream",
          "name": "stdout",
          "text": [
            "Testing AND gate Perceptron:\n",
            "0 AND 0 =  0\n",
            "0 AND 1 =  0\n",
            "1 AND 0 =  0\n",
            "1 AND 1 =  1\n"
          ]
        }
      ]
    },
    {
      "cell_type": "code",
      "source": [],
      "metadata": {
        "id": "8oRMDXY43Su7"
      },
      "execution_count": null,
      "outputs": []
    }
  ]
}